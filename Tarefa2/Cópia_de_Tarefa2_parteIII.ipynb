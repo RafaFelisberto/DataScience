{
  "nbformat": 4,
  "nbformat_minor": 0,
  "metadata": {
    "colab": {
      "provenance": [],
      "include_colab_link": true
    },
    "kernelspec": {
      "name": "python3",
      "display_name": "Python 3"
    },
    "language_info": {
      "name": "python"
    },
    "accelerator": "GPU"
  },
  "cells": [
    {
      "cell_type": "markdown",
      "metadata": {
        "id": "view-in-github",
        "colab_type": "text"
      },
      "source": [
        "<a href=\"https://colab.research.google.com/github/RafaFelisberto/DataScience/blob/main/C%C3%B3pia_de_Tarefa2_parteIII.ipynb\" target=\"_parent\"><img src=\"https://colab.research.google.com/assets/colab-badge.svg\" alt=\"Open In Colab\"/></a>"
      ]
    },
    {
      "cell_type": "markdown",
      "metadata": {
        "id": "xpAuMVCwfWs8"
      },
      "source": [
        "\n",
        "---\n",
        "\n",
        "---\n",
        "# Manipulação de dataframe - TAREFA 2 - Parte III\n",
        "---\n",
        "\n",
        "---\n",
        "\n",
        "\n",
        "\n",
        "\n",
        "\n"
      ]
    },
    {
      "cell_type": "markdown",
      "source": [
        "##1-) Leitura dos dados\n",
        "\n",
        "A base de dados [Churn_Modelling](https://github.com/malegopc/DSBD/blob/main/Datasets/Churn/Churn_Modelling.csv) é utilizada para prever (classificar) quando um cliente irá parar de utilizar o serviço de um banco.\n",
        "\n",
        "Conjunto de dados (características):\n",
        "\n",
        "* Número de Instâncias: 10.000\n",
        "\n",
        "* Número de Atributos: 13 atributos (incluindo o target)\n",
        "\n",
        "* Informações dos Atributos:\n",
        "\n",
        "  1. RowNumber\n",
        "  2. CustomerId\n",
        "  3. Surname\n",
        "  4. CreditScore\n",
        "  5. Geography\n",
        "  6. Gender Age\n",
        "  7. Tenure\n",
        "  8. Balance\n",
        "  9. NumOfProducts\n",
        "  10. HasCrCard\n",
        "  11. IsActiveMember\n",
        "  12. EstimatedSalary\n",
        "  13. Exited (variável de destino - target)\n",
        "\n",
        "*Clone o repositório de dados da disciplina (https://github.com/malegopc/DSBD), faça a leitura do arquivo **Churn_Modelling.csv** disponível na pasta [Churn_Modelling](https://github.com/malegopc/DSBD/blob/main/Datasets/Churn) e armazene-o numa variável do tipo dataframe. Basta utilizar a função [pd.read_csv](https://pandas.pydata.org/docs/reference/api/pandas.read_csv.html) da biblioteca pandas.*"
      ],
      "metadata": {
        "id": "h4hWkVHS1Gz3"
      }
    },
    {
      "cell_type": "code",
      "metadata": {
        "id": "dCHnPAsh1Hi1",
        "outputId": "582d1a41-0951-4ed7-ddd6-efe85c645d57",
        "colab": {
          "base_uri": "https://localhost:8080/"
        }
      },
      "source": [
        "!git clone https://github.com/malegopc/DSBD"
      ],
      "execution_count": null,
      "outputs": [
        {
          "output_type": "stream",
          "name": "stdout",
          "text": [
            "fatal: destination path 'DSBD' already exists and is not an empty directory.\n"
          ]
        }
      ]
    },
    {
      "cell_type": "markdown",
      "source": [
        "##2-) Visualização do dataframe\n",
        "\n",
        "*Mostre as 5 primeiras e as 5 últimas linhas do dataframe.*"
      ],
      "metadata": {
        "id": "qsZlHCY7Mox1"
      }
    },
    {
      "cell_type": "code",
      "source": [],
      "metadata": {
        "id": "ZpKwLLKpcuu1"
      },
      "execution_count": null,
      "outputs": []
    },
    {
      "cell_type": "code",
      "source": [
        "import pandas as pd\n",
        "dfChurn = pd.read_csv('/content/DSBD/Datasets/Churn/Churn_Modelling.csv')\n",
        "print(dfChurn.head())\n",
        "print(\"\\n\\n==========================================================================================================\\n\\n\")\n",
        "print(dfChurn.tail())"
      ],
      "metadata": {
        "id": "CSIVkJNyM5U8",
        "outputId": "b47a8afe-10fe-4df0-fae7-ee093a8917c6",
        "colab": {
          "base_uri": "https://localhost:8080/"
        }
      },
      "execution_count": null,
      "outputs": [
        {
          "output_type": "stream",
          "name": "stdout",
          "text": [
            "   RowNumber  CustomerId   Surname  CreditScore Geography  Gender  Age  \\\n",
            "0          1    15634602  Hargrave          619    France  Female   42   \n",
            "1          2    15647311      Hill          608     Spain  Female   41   \n",
            "2          3    15619304      Onio          502    France  Female   42   \n",
            "3          4    15701354      Boni          699    France  Female   39   \n",
            "4          5    15737888  Mitchell          850     Spain  Female   43   \n",
            "\n",
            "   Tenure    Balance  NumOfProducts  HasCrCard  IsActiveMember  \\\n",
            "0       2       0.00              1          1               1   \n",
            "1       1   83807.86              1          0               1   \n",
            "2       8  159660.80              3          1               0   \n",
            "3       1       0.00              2          0               0   \n",
            "4       2  125510.82              1          1               1   \n",
            "\n",
            "   EstimatedSalary  Exited  \n",
            "0        101348.88       1  \n",
            "1        112542.58       0  \n",
            "2        113931.57       1  \n",
            "3         93826.63       0  \n",
            "4         79084.10       0  \n",
            "\n",
            "\n",
            "==========================================================================================================\n",
            "\n",
            "\n",
            "      RowNumber  CustomerId    Surname  CreditScore Geography  Gender  Age  \\\n",
            "9995       9996    15606229   Obijiaku          771    France    Male   39   \n",
            "9996       9997    15569892  Johnstone          516    France    Male   35   \n",
            "9997       9998    15584532        Liu          709    France  Female   36   \n",
            "9998       9999    15682355  Sabbatini          772   Germany    Male   42   \n",
            "9999      10000    15628319     Walker          792    France  Female   28   \n",
            "\n",
            "      Tenure    Balance  NumOfProducts  HasCrCard  IsActiveMember  \\\n",
            "9995       5       0.00              2          1               0   \n",
            "9996      10   57369.61              1          1               1   \n",
            "9997       7       0.00              1          0               1   \n",
            "9998       3   75075.31              2          1               0   \n",
            "9999       4  130142.79              1          1               0   \n",
            "\n",
            "      EstimatedSalary  Exited  \n",
            "9995         96270.64       0  \n",
            "9996        101699.77       0  \n",
            "9997         42085.58       1  \n",
            "9998         92888.52       1  \n",
            "9999         38190.78       0  \n"
          ]
        }
      ]
    },
    {
      "cell_type": "markdown",
      "source": [
        "##3-) Eliminação manual de variáveis\n",
        "\n",
        "*Elimine as variáveis (colunas): 'RowNumber', 'CustomerId' e 'Surname'.*"
      ],
      "metadata": {
        "id": "zT4SPkzz1QYr"
      }
    },
    {
      "cell_type": "code",
      "source": [
        "# Corrija os nomes das colunas na lista de exclusão, se necessário\n",
        "dfChurn = dfChurn.drop(['RowNumber', 'CustomerId', 'Surname'], axis=1, errors='ignore')\n",
        "\n",
        "# Verifique os nomes das colunas no DataFrame\n",
        "print(dfChurn.columns)\n",
        "\n"
      ],
      "metadata": {
        "id": "StISlxO2oUoh",
        "outputId": "c37ea7cb-bc60-49d2-ae2f-51843768a65a",
        "colab": {
          "base_uri": "https://localhost:8080/"
        }
      },
      "execution_count": null,
      "outputs": [
        {
          "output_type": "stream",
          "name": "stdout",
          "text": [
            "Index(['CreditScore', 'Geography', 'Gender', 'Age', 'Tenure', 'Balance',\n",
            "       'NumOfProducts', 'HasCrCard', 'IsActiveMember', 'EstimatedSalary',\n",
            "       'Exited'],\n",
            "      dtype='object')\n"
          ]
        }
      ]
    },
    {
      "source": [
        "print(dfChurn.head())\n",
        "print(\"\\n\\n==========================================================================================================\\n\\n\")\n",
        "print(dfChurn.tail())"
      ],
      "cell_type": "code",
      "metadata": {
        "id": "MCjo9VCcdx7-",
        "outputId": "12a2ef07-f15f-44ce-8df3-ca6785740080",
        "colab": {
          "base_uri": "https://localhost:8080/"
        }
      },
      "execution_count": null,
      "outputs": [
        {
          "output_type": "stream",
          "name": "stdout",
          "text": [
            "   CreditScore Geography  Gender  Age  Tenure    Balance  NumOfProducts  \\\n",
            "0          619    France  Female   42       2       0.00              1   \n",
            "1          608     Spain  Female   41       1   83807.86              1   \n",
            "2          502    France  Female   42       8  159660.80              3   \n",
            "3          699    France  Female   39       1       0.00              2   \n",
            "4          850     Spain  Female   43       2  125510.82              1   \n",
            "\n",
            "   HasCrCard  IsActiveMember  EstimatedSalary  Exited  \n",
            "0          1               1        101348.88       1  \n",
            "1          0               1        112542.58       0  \n",
            "2          1               0        113931.57       1  \n",
            "3          0               0         93826.63       0  \n",
            "4          1               1         79084.10       0  \n",
            "\n",
            "\n",
            "==========================================================================================================\n",
            "\n",
            "\n",
            "      CreditScore Geography  Gender  Age  Tenure    Balance  NumOfProducts  \\\n",
            "9995          771    France    Male   39       5       0.00              2   \n",
            "9996          516    France    Male   35      10   57369.61              1   \n",
            "9997          709    France  Female   36       7       0.00              1   \n",
            "9998          772   Germany    Male   42       3   75075.31              2   \n",
            "9999          792    France  Female   28       4  130142.79              1   \n",
            "\n",
            "      HasCrCard  IsActiveMember  EstimatedSalary  Exited  \n",
            "9995          1               0         96270.64       0  \n",
            "9996          1               1        101699.77       0  \n",
            "9997          0               1         42085.58       1  \n",
            "9998          1               0         92888.52       1  \n",
            "9999          1               0         38190.78       0  \n"
          ]
        }
      ]
    },
    {
      "cell_type": "markdown",
      "source": [
        "##4-) Dados ausentes\n",
        "\n",
        "*Verifique se há dados ausentes no dataframe.*"
      ],
      "metadata": {
        "id": "ztupOd_tJKDa"
      }
    },
    {
      "cell_type": "code",
      "source": [
        "dfChurn.info()\n",
        "print('\\n\\n\\n')\n",
        "print(dfChurn.isnull().sum())"
      ],
      "metadata": {
        "id": "-46W42g4Jt18",
        "outputId": "e40f27cd-61b2-4a35-9b41-60e815449ea0",
        "colab": {
          "base_uri": "https://localhost:8080/"
        }
      },
      "execution_count": null,
      "outputs": [
        {
          "output_type": "stream",
          "name": "stdout",
          "text": [
            "<class 'pandas.core.frame.DataFrame'>\n",
            "RangeIndex: 10000 entries, 0 to 9999\n",
            "Data columns (total 11 columns):\n",
            " #   Column           Non-Null Count  Dtype  \n",
            "---  ------           --------------  -----  \n",
            " 0   CreditScore      10000 non-null  int64  \n",
            " 1   Geography        10000 non-null  object \n",
            " 2   Gender           10000 non-null  object \n",
            " 3   Age              10000 non-null  int64  \n",
            " 4   Tenure           10000 non-null  int64  \n",
            " 5   Balance          10000 non-null  float64\n",
            " 6   NumOfProducts    10000 non-null  int64  \n",
            " 7   HasCrCard        10000 non-null  int64  \n",
            " 8   IsActiveMember   10000 non-null  int64  \n",
            " 9   EstimatedSalary  10000 non-null  float64\n",
            " 10  Exited           10000 non-null  int64  \n",
            "dtypes: float64(2), int64(7), object(2)\n",
            "memory usage: 859.5+ KB\n",
            "\n",
            "\n",
            "\n",
            "\n",
            "CreditScore        0\n",
            "Geography          0\n",
            "Gender             0\n",
            "Age                0\n",
            "Tenure             0\n",
            "Balance            0\n",
            "NumOfProducts      0\n",
            "HasCrCard          0\n",
            "IsActiveMember     0\n",
            "EstimatedSalary    0\n",
            "Exited             0\n",
            "dtype: int64\n"
          ]
        }
      ]
    },
    {
      "cell_type": "markdown",
      "source": [
        "## 5-) Separa as variáveis\n",
        "\n",
        "*Utilizando a função **[iloc](https://pandas.pydata.org/docs/reference/api/pandas.DataFrame.iloc.html?highlight=iloc#pandas.DataFrame.iloc)**, copie para uma variável \"X\" os valores de todas as variáveis (colunas) do dataframe, exceto os valores da variável \"Exited\".*\n",
        "\n",
        "*E copie para uma variável \"y\" somente os valores da variável \"Exited\".*"
      ],
      "metadata": {
        "id": "k4GgSA8-gGZm"
      }
    },
    {
      "cell_type": "code",
      "metadata": {
        "id": "LypJ6UWi1KgF",
        "outputId": "8da66ca3-f98f-4309-a981-01438120fe75",
        "colab": {
          "base_uri": "https://localhost:8080/"
        }
      },
      "source": [
        "X = dfChurn.iloc[:, :-1]\n",
        "y = dfChurn.iloc[:, -1]\n",
        "\n",
        "print(X)\n",
        "print('\\n\\n\\n')\n",
        "print(y)"
      ],
      "execution_count": null,
      "outputs": [
        {
          "output_type": "stream",
          "name": "stdout",
          "text": [
            "      CreditScore Geography  Gender  Age  Tenure    Balance  NumOfProducts  \\\n",
            "0             619    France  Female   42       2       0.00              1   \n",
            "1             608     Spain  Female   41       1   83807.86              1   \n",
            "2             502    France  Female   42       8  159660.80              3   \n",
            "3             699    France  Female   39       1       0.00              2   \n",
            "4             850     Spain  Female   43       2  125510.82              1   \n",
            "...           ...       ...     ...  ...     ...        ...            ...   \n",
            "9995          771    France    Male   39       5       0.00              2   \n",
            "9996          516    France    Male   35      10   57369.61              1   \n",
            "9997          709    France  Female   36       7       0.00              1   \n",
            "9998          772   Germany    Male   42       3   75075.31              2   \n",
            "9999          792    France  Female   28       4  130142.79              1   \n",
            "\n",
            "      HasCrCard  IsActiveMember  EstimatedSalary  \n",
            "0             1               1        101348.88  \n",
            "1             0               1        112542.58  \n",
            "2             1               0        113931.57  \n",
            "3             0               0         93826.63  \n",
            "4             1               1         79084.10  \n",
            "...         ...             ...              ...  \n",
            "9995          1               0         96270.64  \n",
            "9996          1               1        101699.77  \n",
            "9997          0               1         42085.58  \n",
            "9998          1               0         92888.52  \n",
            "9999          1               0         38190.78  \n",
            "\n",
            "[10000 rows x 10 columns]\n",
            "\n",
            "\n",
            "\n",
            "\n",
            "0       1\n",
            "1       0\n",
            "2       1\n",
            "3       0\n",
            "4       0\n",
            "       ..\n",
            "9995    0\n",
            "9996    0\n",
            "9997    1\n",
            "9998    1\n",
            "9999    0\n",
            "Name: Exited, Length: 10000, dtype: int64\n"
          ]
        }
      ]
    }
  ]
}
